{
 "cells": [
  {
   "cell_type": "code",
   "execution_count": 1,
   "id": "e0506056",
   "metadata": {},
   "outputs": [
    {
     "name": "stdout",
     "output_type": "stream",
     "text": [
      "WARNING:tensorflow:From C:\\Users\\ReMoST11\\anaconda\\Lib\\site-packages\\keras\\src\\losses.py:2976: The name tf.losses.sparse_softmax_cross_entropy is deprecated. Please use tf.compat.v1.losses.sparse_softmax_cross_entropy instead.\n",
      "\n"
     ]
    }
   ],
   "source": [
    "import pandas as pd\n",
    "from sklearn.model_selection import train_test_split\n",
    "from keras.preprocessing.text import Tokenizer\n",
    "from keras.preprocessing.sequence import pad_sequences\n",
    "from keras.models import Model\n",
    "from keras.layers import Input, Embedding, LSTM, Dense, Dropout\n",
    "from keras.optimizers import Adam\n",
    "from sklearn.preprocessing import LabelEncoder\n",
    "import numpy as np"
   ]
  },
  {
   "cell_type": "code",
   "execution_count": 2,
   "id": "7b6c833c",
   "metadata": {},
   "outputs": [
    {
     "data": {
      "text/html": [
       "<div>\n",
       "<style scoped>\n",
       "    .dataframe tbody tr th:only-of-type {\n",
       "        vertical-align: middle;\n",
       "    }\n",
       "\n",
       "    .dataframe tbody tr th {\n",
       "        vertical-align: top;\n",
       "    }\n",
       "\n",
       "    .dataframe thead th {\n",
       "        text-align: right;\n",
       "    }\n",
       "</style>\n",
       "<table border=\"1\" class=\"dataframe\">\n",
       "  <thead>\n",
       "    <tr style=\"text-align: right;\">\n",
       "      <th></th>\n",
       "      <th>book_authors</th>\n",
       "      <th>book_desc</th>\n",
       "      <th>book_edition</th>\n",
       "      <th>book_format</th>\n",
       "      <th>book_isbn</th>\n",
       "      <th>book_pages</th>\n",
       "      <th>book_rating</th>\n",
       "      <th>book_rating_count</th>\n",
       "      <th>book_review_count</th>\n",
       "      <th>book_title</th>\n",
       "      <th>genres</th>\n",
       "      <th>image_url</th>\n",
       "      <th>Unnamed: 12</th>\n",
       "      <th>Unnamed: 13</th>\n",
       "      <th>Unnamed: 14</th>\n",
       "      <th>Unnamed: 15</th>\n",
       "      <th>Unnamed: 16</th>\n",
       "    </tr>\n",
       "  </thead>\n",
       "  <tbody>\n",
       "    <tr>\n",
       "      <th>0</th>\n",
       "      <td>Suzanne Collins</td>\n",
       "      <td>Winning will make you famous. Losing means cer...</td>\n",
       "      <td>NaN</td>\n",
       "      <td>Hardcover</td>\n",
       "      <td>9.78E+12</td>\n",
       "      <td>374 pages</td>\n",
       "      <td>4.33</td>\n",
       "      <td>5519135</td>\n",
       "      <td>160706</td>\n",
       "      <td>The Hunger Games</td>\n",
       "      <td>Young Adult|Fiction|Science Fiction|Dystopia|F...</td>\n",
       "      <td>https://images.gr-assets.com/books/1447303603l...</td>\n",
       "      <td>NaN</td>\n",
       "      <td>NaN</td>\n",
       "      <td>NaN</td>\n",
       "      <td>NaN</td>\n",
       "      <td>NaN</td>\n",
       "    </tr>\n",
       "    <tr>\n",
       "      <th>1</th>\n",
       "      <td>J.K. Rowling|Mary GrandPrÃ©</td>\n",
       "      <td>There is a door at the end of a silent corrido...</td>\n",
       "      <td>US Edition</td>\n",
       "      <td>Paperback</td>\n",
       "      <td>9.78E+12</td>\n",
       "      <td>870 pages</td>\n",
       "      <td>4.48</td>\n",
       "      <td>2041594</td>\n",
       "      <td>33264</td>\n",
       "      <td>Harry Potter and the Order of the Phoenix</td>\n",
       "      <td>Fantasy|Young Adult|Fiction</td>\n",
       "      <td>https://images.gr-assets.com/books/1255614970l...</td>\n",
       "      <td>NaN</td>\n",
       "      <td>NaN</td>\n",
       "      <td>NaN</td>\n",
       "      <td>NaN</td>\n",
       "      <td>NaN</td>\n",
       "    </tr>\n",
       "    <tr>\n",
       "      <th>2</th>\n",
       "      <td>Harper Lee</td>\n",
       "      <td>The unforgettable novel of a childhood in a sl...</td>\n",
       "      <td>50th Anniversary</td>\n",
       "      <td>Paperback</td>\n",
       "      <td>9.78E+12</td>\n",
       "      <td>324 pages</td>\n",
       "      <td>4.27</td>\n",
       "      <td>3745197</td>\n",
       "      <td>79450</td>\n",
       "      <td>To Kill a Mockingbird</td>\n",
       "      <td>Classics|Fiction|Historical|Historical Fiction...</td>\n",
       "      <td>https://images.gr-assets.com/books/1361975680l...</td>\n",
       "      <td>NaN</td>\n",
       "      <td>NaN</td>\n",
       "      <td>NaN</td>\n",
       "      <td>NaN</td>\n",
       "      <td>NaN</td>\n",
       "    </tr>\n",
       "    <tr>\n",
       "      <th>3</th>\n",
       "      <td>Jane Austen|Anna Quindlen|Mrs. Oliphant|George...</td>\n",
       "      <td>Â«Ã cosa ormai risaputa che a uno scapolo in ...</td>\n",
       "      <td>Modern Library Classics, USA / CAN</td>\n",
       "      <td>Paperback</td>\n",
       "      <td>9.78E+12</td>\n",
       "      <td>279 pages</td>\n",
       "      <td>4.25</td>\n",
       "      <td>2453620</td>\n",
       "      <td>54322</td>\n",
       "      <td>Pride and Prejudice</td>\n",
       "      <td>Classics|Fiction|Romance</td>\n",
       "      <td>https://images.gr-assets.com/books/1320399351l...</td>\n",
       "      <td>NaN</td>\n",
       "      <td>NaN</td>\n",
       "      <td>NaN</td>\n",
       "      <td>NaN</td>\n",
       "      <td>NaN</td>\n",
       "    </tr>\n",
       "    <tr>\n",
       "      <th>4</th>\n",
       "      <td>Stephenie Meyer</td>\n",
       "      <td>About three things I was absolutely positive.F...</td>\n",
       "      <td>NaN</td>\n",
       "      <td>Paperback</td>\n",
       "      <td>9.78E+12</td>\n",
       "      <td>498 pages</td>\n",
       "      <td>3.58</td>\n",
       "      <td>4281268</td>\n",
       "      <td>97991</td>\n",
       "      <td>Twilight</td>\n",
       "      <td>Young Adult|Fantasy|Romance|Paranormal|Vampire...</td>\n",
       "      <td>https://images.gr-assets.com/books/1361039443l...</td>\n",
       "      <td>NaN</td>\n",
       "      <td>NaN</td>\n",
       "      <td>NaN</td>\n",
       "      <td>NaN</td>\n",
       "      <td>NaN</td>\n",
       "    </tr>\n",
       "  </tbody>\n",
       "</table>\n",
       "</div>"
      ],
      "text/plain": [
       "                                        book_authors  \\\n",
       "0                                    Suzanne Collins   \n",
       "1                        J.K. Rowling|Mary GrandPrÃ©   \n",
       "2                                         Harper Lee   \n",
       "3  Jane Austen|Anna Quindlen|Mrs. Oliphant|George...   \n",
       "4                                    Stephenie Meyer   \n",
       "\n",
       "                                           book_desc  \\\n",
       "0  Winning will make you famous. Losing means cer...   \n",
       "1  There is a door at the end of a silent corrido...   \n",
       "2  The unforgettable novel of a childhood in a sl...   \n",
       "3  Â«Ã cosa ormai risaputa che a uno scapolo in ...   \n",
       "4  About three things I was absolutely positive.F...   \n",
       "\n",
       "                         book_edition book_format book_isbn book_pages  \\\n",
       "0                                 NaN   Hardcover  9.78E+12  374 pages   \n",
       "1                          US Edition   Paperback  9.78E+12  870 pages   \n",
       "2                    50th Anniversary   Paperback  9.78E+12  324 pages   \n",
       "3  Modern Library Classics, USA / CAN   Paperback  9.78E+12  279 pages   \n",
       "4                                 NaN   Paperback  9.78E+12  498 pages   \n",
       "\n",
       "  book_rating book_rating_count book_review_count  \\\n",
       "0        4.33           5519135            160706   \n",
       "1        4.48           2041594             33264   \n",
       "2        4.27           3745197             79450   \n",
       "3        4.25           2453620             54322   \n",
       "4        3.58           4281268             97991   \n",
       "\n",
       "                                  book_title  \\\n",
       "0                           The Hunger Games   \n",
       "1  Harry Potter and the Order of the Phoenix   \n",
       "2                      To Kill a Mockingbird   \n",
       "3                        Pride and Prejudice   \n",
       "4                                   Twilight   \n",
       "\n",
       "                                              genres  \\\n",
       "0  Young Adult|Fiction|Science Fiction|Dystopia|F...   \n",
       "1                        Fantasy|Young Adult|Fiction   \n",
       "2  Classics|Fiction|Historical|Historical Fiction...   \n",
       "3                           Classics|Fiction|Romance   \n",
       "4  Young Adult|Fantasy|Romance|Paranormal|Vampire...   \n",
       "\n",
       "                                           image_url Unnamed: 12 Unnamed: 13  \\\n",
       "0  https://images.gr-assets.com/books/1447303603l...         NaN         NaN   \n",
       "1  https://images.gr-assets.com/books/1255614970l...         NaN         NaN   \n",
       "2  https://images.gr-assets.com/books/1361975680l...         NaN         NaN   \n",
       "3  https://images.gr-assets.com/books/1320399351l...         NaN         NaN   \n",
       "4  https://images.gr-assets.com/books/1361039443l...         NaN         NaN   \n",
       "\n",
       "  Unnamed: 14 Unnamed: 15 Unnamed: 16  \n",
       "0         NaN         NaN         NaN  \n",
       "1         NaN         NaN         NaN  \n",
       "2         NaN         NaN         NaN  \n",
       "3         NaN         NaN         NaN  \n",
       "4         NaN         NaN         NaN  "
      ]
     },
     "execution_count": 2,
     "metadata": {},
     "output_type": "execute_result"
    }
   ],
   "source": [
    "file = 'book_data.csv'\n",
    "red = pd.read_csv(file, encoding='ISO-8859-1')\n",
    "red.head()"
   ]
  },
  {
   "cell_type": "code",
   "execution_count": 3,
   "id": "08e7e9cc",
   "metadata": {},
   "outputs": [],
   "source": [
    "red.dropna(subset=['book_desc'], inplace=True)"
   ]
  },
  {
   "cell_type": "code",
   "execution_count": 4,
   "id": "f28b9917",
   "metadata": {},
   "outputs": [],
   "source": [
    "red['book_rating'] = pd.to_numeric(red['book_rating'], errors='coerce')\n",
    "red.dropna(subset=['book_rating'], inplace=True)"
   ]
  },
  {
   "cell_type": "code",
   "execution_count": 5,
   "id": "821f695c",
   "metadata": {},
   "outputs": [],
   "source": [
    "max_words = 3000\n",
    "max_len = 100\n",
    "tokenizer = Tokenizer(num_words=max_words)\n",
    "tokenizer.fit_on_texts(red['book_desc'])\n",
    "sequences = tokenizer.texts_to_sequences(red['book_desc'])\n",
    "X = pad_sequences(sequences, maxlen=max_len)"
   ]
  },
  {
   "cell_type": "code",
   "execution_count": 6,
   "id": "600e2ec8",
   "metadata": {},
   "outputs": [],
   "source": [
    "label_encoder_title = LabelEncoder()\n",
    "label_encoder_author = LabelEncoder()\n",
    "\n",
    "red['book_title_encoded'] = label_encoder_title.fit_transform(red['book_title'])\n",
    "red['book_author_encoded'] = label_encoder_author.fit_transform(red['book_authors'])"
   ]
  },
  {
   "cell_type": "code",
   "execution_count": 7,
   "id": "50fc2ec7",
   "metadata": {},
   "outputs": [],
   "source": [
    "y_title = pd.get_dummies(red['book_title_encoded']).values\n",
    "y_author = pd.get_dummies(red['book_author_encoded']).values\n",
    "y_rating = red['book_rating'].astype(float).values"
   ]
  },
  {
   "cell_type": "code",
   "execution_count": 8,
   "id": "30370906",
   "metadata": {},
   "outputs": [],
   "source": [
    "X_train, X_test, y_title_train, y_title_test, y_author_train, y_author_test, y_rating_train, y_rating_test = train_test_split(\n",
    "    X, y_title, y_author, y_rating, test_size=0.3, random_state=42)"
   ]
  },
  {
   "cell_type": "code",
   "execution_count": 9,
   "id": "f981802b",
   "metadata": {},
   "outputs": [
    {
     "name": "stdout",
     "output_type": "stream",
     "text": [
      "WARNING:tensorflow:From C:\\Users\\ReMoST11\\anaconda\\Lib\\site-packages\\keras\\src\\backend.py:1398: The name tf.executing_eagerly_outside_functions is deprecated. Please use tf.compat.v1.executing_eagerly_outside_functions instead.\n",
      "\n"
     ]
    }
   ],
   "source": [
    "input_layer = Input(shape=(max_len,))\n",
    "embedding_layer = Embedding(max_words, 64)(input_layer)\n",
    "lstm_layer = LSTM(64, dropout=0.2, recurrent_dropout=0.2, recurrent_initializer='glorot_uniform')(embedding_layer)\n",
    "dropout_layer = Dropout(0.2)(lstm_layer)"
   ]
  },
  {
   "cell_type": "code",
   "execution_count": 10,
   "id": "8ecc923a",
   "metadata": {},
   "outputs": [],
   "source": [
    "# title\n",
    "title_output = Dense(y_title.shape[1], activation='softmax', name='title_output')(dropout_layer)\n",
    "# author\n",
    "author_output = Dense(y_author.shape[1], activation='softmax', name='author_output')(dropout_layer)\n",
    "# rating\n",
    "rating_output = Dense(1, activation='linear', name='rating_output')(dropout_layer)"
   ]
  },
  {
   "cell_type": "code",
   "execution_count": 11,
   "id": "2f9841f6",
   "metadata": {},
   "outputs": [],
   "source": [
    "model = Model(inputs=input_layer, outputs=[title_output, author_output, rating_output])"
   ]
  },
  {
   "cell_type": "code",
   "execution_count": 12,
   "id": "cf197c22",
   "metadata": {},
   "outputs": [],
   "source": [
    "model.compile(loss=['categorical_crossentropy', 'categorical_crossentropy', 'mean_squared_error'], \n",
    "              optimizer=Adam(), \n",
    "              metrics=['accuracy'])\n"
   ]
  },
  {
   "cell_type": "code",
   "execution_count": 13,
   "id": "3775ae67",
   "metadata": {},
   "outputs": [
    {
     "name": "stdout",
     "output_type": "stream",
     "text": [
      "WARNING:tensorflow:From C:\\Users\\ReMoST11\\anaconda\\Lib\\site-packages\\keras\\src\\engine\\base_layer_utils.py:384: The name tf.executing_eagerly_outside_functions is deprecated. Please use tf.compat.v1.executing_eagerly_outside_functions instead.\n",
      "\n",
      "WARNING:tensorflow:From C:\\Users\\ReMoST11\\anaconda\\Lib\\site-packages\\keras\\src\\utils\\tf_utils.py:492: The name tf.ragged.RaggedTensorValue is deprecated. Please use tf.compat.v1.ragged.RaggedTensorValue instead.\n",
      "\n",
      "447/447 [==============================] - 148s 291ms/step - loss: 20.4625 - title_output_loss: 10.3628 - author_output_loss: 9.3712 - rating_output_loss: 0.7285 - title_output_accuracy: 0.0000e+00 - author_output_accuracy: 0.0013 - rating_output_accuracy: 1.3985e-04\n"
     ]
    },
    {
     "data": {
      "text/plain": [
       "<keras.src.callbacks.History at 0x1644851d6d0>"
      ]
     },
     "execution_count": 13,
     "metadata": {},
     "output_type": "execute_result"
    }
   ],
   "source": [
    "model.fit(X_train, [y_title_train, y_author_train, y_rating_train], epochs=1 , batch_size=32)"
   ]
  },
  {
   "cell_type": "code",
   "execution_count": 14,
   "id": "b12f2ccc",
   "metadata": {},
   "outputs": [
    {
     "name": "stdout",
     "output_type": "stream",
     "text": [
      "192/192 [==============================] - 17s 64ms/step - loss: 20.3098 - title_output_loss: 10.7017 - author_output_loss: 9.4452 - rating_output_loss: 0.1629 - title_output_accuracy: 1.6316e-04 - author_output_accuracy: 0.0021 - rating_output_accuracy: 0.0000e+00\n",
      "Loss: 20.309818267822266, Title Accuracy: 10.701712608337402, Author Accuracy: 0.1629408299922943, Rating MSE: 0.002121063880622387\n"
     ]
    }
   ],
   "source": [
    "results = model.evaluate(X_test, [y_title_test, y_author_test, y_rating_test])\n",
    "print(f\"Loss: {results[0]}, Title Accuracy: {results[1]}, Author Accuracy: {results[3]}, Rating MSE: {results[5]}\")"
   ]
  },
  {
   "cell_type": "code",
   "execution_count": 15,
   "id": "9fbb031a",
   "metadata": {},
   "outputs": [],
   "source": [
    "def get_title_author_rating(pred):\n",
    "    title_index = pred[0].argmax()\n",
    "    author_index = pred[1].argmax()\n",
    "    rating = pred[2]\n",
    "\n",
    "    title = label_encoder_title.inverse_transform([title_index])[0]\n",
    "    author = label_encoder_author.inverse_transform([author_index])[0]\n",
    "\n",
    "    return title, author, rating"
   ]
  },
  {
   "cell_type": "code",
   "execution_count": 16,
   "id": "a3db9ebd",
   "metadata": {},
   "outputs": [
    {
     "name": "stdout",
     "output_type": "stream",
     "text": [
      "1/1 [==============================] - 3s 3s/step\n",
      "Title: The Book Thief, Author: Meg Cabot, Rating: [[3.820393]]\n"
     ]
    }
   ],
   "source": [
    "sample_text = red['book_desc'].iloc[0]\n",
    "sample_seq = tokenizer.texts_to_sequences([sample_text])\n",
    "sample_padded = pad_sequences(sample_seq, maxlen=max_len)\n",
    "pred = model.predict(sample_padded)\n",
    "\n",
    "title, author, rating = get_title_author_rating(pred)\n",
    "print(f\"Title: {title}, Author: {author}, Rating: {rating}\")"
   ]
  },
  {
   "cell_type": "code",
   "execution_count": 17,
   "id": "4695c847",
   "metadata": {},
   "outputs": [
    {
     "name": "stderr",
     "output_type": "stream",
     "text": [
      "C:\\Users\\ReMoST11\\anaconda\\Lib\\site-packages\\keras\\src\\engine\\training.py:3103: UserWarning: You are saving your model as an HDF5 file via `model.save()`. This file format is considered legacy. We recommend using instead the native Keras format, e.g. `model.save('my_model.keras')`.\n",
      "  saving_api.save_model(\n"
     ]
    }
   ],
   "source": [
    "model.save(\"my_model1.h5\")"
   ]
  },
  {
   "cell_type": "markdown",
   "id": "fb0f25b5",
   "metadata": {},
   "source": [
    "## <center> Create API "
   ]
  },
  {
   "cell_type": "code",
   "execution_count": null,
   "id": "8f63c28a",
   "metadata": {},
   "outputs": [],
   "source": [
    "import pandas as pd\n",
    "from flask import Flask, request, jsonify\n",
    "from keras.preprocessing.text import Tokenizer\n",
    "from keras.preprocessing.sequence import pad_sequences\n",
    "from tensorflow import keras\n",
    "from sklearn.preprocessing import LabelEncoder\n",
    "import numpy as np\n",
    "import os\n",
    "\n",
    "app = Flask(__name__)\n",
    "app.secret_key = 'e332c75bc8de5a684596e55242f9beb5c1cff28d8dc771618a90e82af17a2610'\n",
    "\n",
    "# Check if model and data files exist\n",
    "model_path = 'my_model.h5'\n",
    "data_path = 'book_data.csv'\n",
    "\n",
    "if not os.path.exists(model_path):\n",
    "    raise FileNotFoundError(f\"Model file not found: {model_path}\")\n",
    "\n",
    "if not os.path.exists(data_path):\n",
    "    raise FileNotFoundError(f\"Data file not found: {data_path}\")\n",
    "\n",
    "# Load the trained model\n",
    "try:\n",
    "    model = keras.models.load_model(model_path)\n",
    "    print(\"Model loaded successfully.\")\n",
    "except Exception as e:\n",
    "    print(f\"Error loading model: {e}\")\n",
    "    raise\n",
    "\n",
    "# Load book data\n",
    "try:\n",
    "    data = pd.read_csv(data_path, encoding='ISO-8859-1')\n",
    "    data.dropna(subset=['book_desc'], inplace=True)\n",
    "    print(\"Data loaded successfully.\")\n",
    "except Exception as e:\n",
    "    print(f\"Error loading data: {e}\")\n",
    "    raise\n",
    "\n",
    "# Prepare tokenizer\n",
    "try:\n",
    "    max_words = 1000\n",
    "    max_len = 100\n",
    "    tokenizer = Tokenizer(num_words=max_words)\n",
    "    tokenizer.fit_on_texts(data['book_desc'])\n",
    "    print(\"Tokenizer prepared successfully.\")\n",
    "except Exception as e:\n",
    "    print(f\"Error preparing tokenizer: {e}\")\n",
    "    raise\n",
    "\n",
    "# Prepare label encoders\n",
    "label_encoder_title = LabelEncoder()\n",
    "label_encoder_author = LabelEncoder()\n",
    "try:\n",
    "    data['book_title_encoded'] = label_encoder_title.fit_transform(data['book_title'])\n",
    "    data['book_author_encoded'] = label_encoder_author.fit_transform(data['book_authors'])\n",
    "    print(\"Label encoders prepared successfully.\")\n",
    "except Exception as e:\n",
    "    print(f\"Error preparing label encoders: {e}\")\n",
    "    raise\n",
    "\n",
    "@app.route(\"/get-response\", methods=[\"POST\"])\n",
    "def get_response():\n",
    "    user_input = request.json.get('description')\n",
    "    if not user_input:\n",
    "        return jsonify({\"error\": \"No description provided\"}), 400\n",
    "    \n",
    "    try:\n",
    "        # Tokenize and pad the user input\n",
    "        user_sequence = tokenizer.texts_to_sequences([user_input])\n",
    "        user_padded = pad_sequences(user_sequence, maxlen=max_len)\n",
    "        \n",
    "        # Predict using the model\n",
    "        predictions = model.predict(user_padded)\n",
    "        \n",
    "        # Get top 10 predictions for title and author\n",
    "        top_title_indices = predictions[0][0].argsort()[-10:][::-1]\n",
    "        top_author_indices = predictions[1][0].argsort()[-10:][::-1]\n",
    "        \n",
    "        response = []\n",
    "        for i in range(10):\n",
    "            title_index = top_title_indices[i]\n",
    "            author_index = top_author_indices[i]\n",
    "            rating = float(predictions[2][0][0])  # Use the same rating for simplicity\n",
    "            \n",
    "            title = label_encoder_title.inverse_transform([title_index])[0]\n",
    "            author = label_encoder_author.inverse_transform([author_index])[0]\n",
    "            \n",
    "            response.append({\n",
    "                \"title\": title,\n",
    "                \"author\": author,\n",
    "                \"rating\": rating\n",
    "            })\n",
    "        \n",
    "        return jsonify(response)\n",
    "    except Exception as e:\n",
    "        print(f\"Error processing request: {e}\")\n",
    "        return jsonify({\"error\": \"Internal server error\", \"details\": str(e)}), 500\n",
    "\n",
    "if __name__ == \"__main__\":\n",
    "    try:\n",
    "        app.run(debug=True, use_reloader=False)  # Added use_reloader=False to prevent multiple instances\n",
    "    except Exception as e:\n",
    "        print(f\"Error starting Flask app: {e}\")\n"
   ]
  },
  {
   "cell_type": "code",
   "execution_count": null,
   "id": "ee3f1650",
   "metadata": {},
   "outputs": [],
   "source": []
  },
  {
   "cell_type": "code",
   "execution_count": null,
   "id": "8355280f",
   "metadata": {},
   "outputs": [],
   "source": []
  },
  {
   "cell_type": "code",
   "execution_count": null,
   "id": "688aea57",
   "metadata": {},
   "outputs": [],
   "source": []
  }
 ],
 "metadata": {
  "kernelspec": {
   "display_name": "Python 3 (ipykernel)",
   "language": "python",
   "name": "python3"
  },
  "language_info": {
   "codemirror_mode": {
    "name": "ipython",
    "version": 3
   },
   "file_extension": ".py",
   "mimetype": "text/x-python",
   "name": "python",
   "nbconvert_exporter": "python",
   "pygments_lexer": "ipython3",
   "version": "3.11.5"
  }
 },
 "nbformat": 4,
 "nbformat_minor": 5
}
